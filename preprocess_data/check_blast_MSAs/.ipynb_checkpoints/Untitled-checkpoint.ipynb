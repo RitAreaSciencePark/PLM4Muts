{
 "cells": [
  {
   "cell_type": "code",
   "execution_count": 1,
   "id": "6ad65dc7-a8d5-470a-b2fd-f3c1b9769555",
   "metadata": {},
   "outputs": [],
   "source": [
    "import pandas as pd\n",
    "import numpy as np\n",
    "import os\n",
    "import sys\n",
    "import matplotlib.pyplot as plt"
   ]
  },
  {
   "cell_type": "code",
   "execution_count": 27,
   "id": "18522a1f-0296-4a0f-8759-8b70f8d2a2d1",
   "metadata": {},
   "outputs": [],
   "source": [
    "mega = pd.read_csv('../preprocess_PLM4Muts/S1465/train/databases/db_s1465.csv')\n",
    "#mega = pd.read_csv('../preprocess_PLM4Muts/S157479/train/databases/db_s157479.csv')\n",
    "#test_df = pd.read_csv('../preprocess_PLM4Muts/S157479/test/databases/db_s669.csv')\n",
    "#blast_s669 = pd.read_csv('../preprocess_PLM4Muts/blastp/s669-mega_merged_blast', sep=\" \")\n",
    "\n",
    "test_df = pd.read_csv('../preprocess_PLM4Muts/S157479/test/databases/db_s669.csv')\n",
    "blast_ssym = pd.read_csv('../preprocess_PLM4Muts/blastp/s669-S3421_merged_blast', sep=\" \")"
   ]
  },
  {
   "cell_type": "code",
   "execution_count": 28,
   "id": "9871abe0-b87d-4c0e-a1a5-1dc7bb8dc2ec",
   "metadata": {},
   "outputs": [
    {
     "data": {
      "text/html": [
       "<div>\n",
       "<style scoped>\n",
       "    .dataframe tbody tr th:only-of-type {\n",
       "        vertical-align: middle;\n",
       "    }\n",
       "\n",
       "    .dataframe tbody tr th {\n",
       "        vertical-align: top;\n",
       "    }\n",
       "\n",
       "    .dataframe thead th {\n",
       "        text-align: right;\n",
       "    }\n",
       "</style>\n",
       "<table border=\"1\" class=\"dataframe\">\n",
       "  <thead>\n",
       "    <tr style=\"text-align: right;\">\n",
       "      <th></th>\n",
       "      <th>code</th>\n",
       "      <th>identity</th>\n",
       "      <th>evalue</th>\n",
       "      <th>length</th>\n",
       "    </tr>\n",
       "  </thead>\n",
       "  <tbody>\n",
       "    <tr>\n",
       "      <th>0</th>\n",
       "      <td>1A0F-1A23</td>\n",
       "      <td>22.727</td>\n",
       "      <td>0.38</td>\n",
       "      <td>22.0</td>\n",
       "    </tr>\n",
       "    <tr>\n",
       "      <th>1</th>\n",
       "      <td>1A0F-1A43</td>\n",
       "      <td>0.000</td>\n",
       "      <td>10.00</td>\n",
       "      <td>0.0</td>\n",
       "    </tr>\n",
       "    <tr>\n",
       "      <th>2</th>\n",
       "      <td>1A0F-1A5E</td>\n",
       "      <td>31.818</td>\n",
       "      <td>1.00</td>\n",
       "      <td>22.0</td>\n",
       "    </tr>\n",
       "    <tr>\n",
       "      <th>3</th>\n",
       "      <td>1A0F-1AAR</td>\n",
       "      <td>0.000</td>\n",
       "      <td>10.00</td>\n",
       "      <td>0.0</td>\n",
       "    </tr>\n",
       "    <tr>\n",
       "      <th>4</th>\n",
       "      <td>1A0F-1AG2</td>\n",
       "      <td>60.000</td>\n",
       "      <td>8.40</td>\n",
       "      <td>5.0</td>\n",
       "    </tr>\n",
       "    <tr>\n",
       "      <th>...</th>\n",
       "      <td>...</td>\n",
       "      <td>...</td>\n",
       "      <td>...</td>\n",
       "      <td>...</td>\n",
       "    </tr>\n",
       "    <tr>\n",
       "      <th>13343</th>\n",
       "      <td>5JXB-1ZNJB</td>\n",
       "      <td>0.000</td>\n",
       "      <td>10.00</td>\n",
       "      <td>0.0</td>\n",
       "    </tr>\n",
       "    <tr>\n",
       "      <th>13344</th>\n",
       "      <td>5OAQ-1ZNJA</td>\n",
       "      <td>0.000</td>\n",
       "      <td>10.00</td>\n",
       "      <td>0.0</td>\n",
       "    </tr>\n",
       "    <tr>\n",
       "      <th>13345</th>\n",
       "      <td>5OAQ-1ZNJB</td>\n",
       "      <td>0.000</td>\n",
       "      <td>10.00</td>\n",
       "      <td>0.0</td>\n",
       "    </tr>\n",
       "    <tr>\n",
       "      <th>13346</th>\n",
       "      <td>5VP3-1ZNJA</td>\n",
       "      <td>0.000</td>\n",
       "      <td>10.00</td>\n",
       "      <td>0.0</td>\n",
       "    </tr>\n",
       "    <tr>\n",
       "      <th>13347</th>\n",
       "      <td>5VP3-1ZNJB</td>\n",
       "      <td>0.000</td>\n",
       "      <td>10.00</td>\n",
       "      <td>0.0</td>\n",
       "    </tr>\n",
       "  </tbody>\n",
       "</table>\n",
       "<p>13348 rows × 4 columns</p>\n",
       "</div>"
      ],
      "text/plain": [
       "             code  identity  evalue  length\n",
       "0       1A0F-1A23    22.727    0.38    22.0\n",
       "1       1A0F-1A43     0.000   10.00     0.0\n",
       "2       1A0F-1A5E    31.818    1.00    22.0\n",
       "3       1A0F-1AAR     0.000   10.00     0.0\n",
       "4       1A0F-1AG2    60.000    8.40     5.0\n",
       "...           ...       ...     ...     ...\n",
       "13343  5JXB-1ZNJB     0.000   10.00     0.0\n",
       "13344  5OAQ-1ZNJA     0.000   10.00     0.0\n",
       "13345  5OAQ-1ZNJB     0.000   10.00     0.0\n",
       "13346  5VP3-1ZNJA     0.000   10.00     0.0\n",
       "13347  5VP3-1ZNJB     0.000   10.00     0.0\n",
       "\n",
       "[13348 rows x 4 columns]"
      ]
     },
     "execution_count": 28,
     "metadata": {},
     "output_type": "execute_result"
    }
   ],
   "source": [
    "blast_ssym"
   ]
  },
  {
   "cell_type": "code",
   "execution_count": 29,
   "id": "6cae899c-9b75-4daf-b8d7-cbb40cc1e102",
   "metadata": {},
   "outputs": [
    {
     "name": "stderr",
     "output_type": "stream",
     "text": [
      "/tmp/ipykernel_1566365/1273716692.py:12: SettingWithCopyWarning: \n",
      "A value is trying to be set on a copy of a slice from a DataFrame.\n",
      "Try using .loc[row_indexer,col_indexer] = value instead\n",
      "\n",
      "See the caveats in the documentation: https://pandas.pydata.org/pandas-docs/stable/user_guide/indexing.html#returning-a-view-versus-a-copy\n",
      "  blast['overlap'] = len_score\n"
     ]
    }
   ],
   "source": [
    "pdbs = list(set([m.partition('-')[0] for m in mega['code'].to_list()]))\n",
    "blast_ssym['train'] = [c.partition('-')[2] for c in blast_ssym['code'].to_list()]\n",
    "blast_ssym['test'] = [c.partition('-')[0] for c in blast_ssym['code'].to_list()]\n",
    "blast = blast_ssym[blast_ssym['train'].isin(pdbs)]\n",
    "\n",
    "len_score = []\n",
    "for i in range(len(blast)):\n",
    "    pdb = blast.iloc[i]['test']\n",
    "    len_test = float(len(test_df[test_df['pdb_id'] == pdb]['wt_seq'].values[0]))\n",
    "    overlap = float(blast.iloc[i]['length'])\n",
    "    len_score.append(overlap / len_test) \n",
    "blast['overlap'] = len_score"
   ]
  },
  {
   "cell_type": "code",
   "execution_count": 30,
   "id": "28e0499a-73a0-43d4-897a-5f405fd768a5",
   "metadata": {},
   "outputs": [
    {
     "data": {
      "image/png": "[encoded data removed]",
      "text/plain": [
       "<Figure size 640x480 with 1 Axes>"
      ]
     },
     "metadata": {},
     "output_type": "display_data"
    }
   ],
   "source": [
    "plt.hist(blast['overlap'], bins=30)\n",
    "plt.ylim(0,100)\n",
    "plt.show()"
   ]
  },
  {
   "cell_type": "code",
   "execution_count": 31,
   "id": "cc2e8c86-35ab-42ad-a72d-59d511a55b55",
   "metadata": {},
   "outputs": [],
   "source": [
    "to_check = blast[(blast['overlap']>0.5)&(blast['evalue']<0.5)]"
   ]
  },
  {
   "cell_type": "code",
   "execution_count": 32,
   "id": "d1de740e-91ce-4223-b1a7-245eff466598",
   "metadata": {},
   "outputs": [],
   "source": [
    "pairs = pd.DataFrame(columns=['test','train'])\n",
    "pairs['train'] = to_check['train']\n",
    "pairs['test'] = to_check['test']"
   ]
  },
  {
   "cell_type": "code",
   "execution_count": 33,
   "id": "cccb1f4f-4440-4bde-acf0-ff3ebc279fb5",
   "metadata": {},
   "outputs": [
    {
     "data": {
      "text/html": [
       "<div>\n",
       "<style scoped>\n",
       "    .dataframe tbody tr th:only-of-type {\n",
       "        vertical-align: middle;\n",
       "    }\n",
       "\n",
       "    .dataframe tbody tr th {\n",
       "        vertical-align: top;\n",
       "    }\n",
       "\n",
       "    .dataframe thead th {\n",
       "        text-align: right;\n",
       "    }\n",
       "</style>\n",
       "<table border=\"1\" class=\"dataframe\">\n",
       "  <thead>\n",
       "    <tr style=\"text-align: right;\">\n",
       "      <th></th>\n",
       "      <th>test</th>\n",
       "      <th>train</th>\n",
       "    </tr>\n",
       "  </thead>\n",
       "  <tbody>\n",
       "    <tr>\n",
       "      <th>118</th>\n",
       "      <td>1A0F</td>\n",
       "      <td>2BRD</td>\n",
       "    </tr>\n",
       "    <tr>\n",
       "      <th>479</th>\n",
       "      <td>1BFM</td>\n",
       "      <td>1IO2</td>\n",
       "    </tr>\n",
       "    <tr>\n",
       "      <th>849</th>\n",
       "      <td>1DIV</td>\n",
       "      <td>1ANK</td>\n",
       "    </tr>\n",
       "    <tr>\n",
       "      <th>918</th>\n",
       "      <td>1DIV</td>\n",
       "      <td>1POH</td>\n",
       "    </tr>\n",
       "    <tr>\n",
       "      <th>958</th>\n",
       "      <td>1DIV</td>\n",
       "      <td>2BRD</td>\n",
       "    </tr>\n",
       "    <tr>\n",
       "      <th>...</th>\n",
       "      <td>...</td>\n",
       "      <td>...</td>\n",
       "    </tr>\n",
       "    <tr>\n",
       "      <th>12998</th>\n",
       "      <td>5OAQ</td>\n",
       "      <td>2BRD</td>\n",
       "    </tr>\n",
       "    <tr>\n",
       "      <th>13016</th>\n",
       "      <td>5OAQ</td>\n",
       "      <td>4BLM</td>\n",
       "    </tr>\n",
       "    <tr>\n",
       "      <th>13025</th>\n",
       "      <td>5VP3</td>\n",
       "      <td>1AJ3</td>\n",
       "    </tr>\n",
       "    <tr>\n",
       "      <th>13052</th>\n",
       "      <td>5VP3</td>\n",
       "      <td>1CHK</td>\n",
       "    </tr>\n",
       "    <tr>\n",
       "      <th>13102</th>\n",
       "      <td>5VP3</td>\n",
       "      <td>1QQV</td>\n",
       "    </tr>\n",
       "  </tbody>\n",
       "</table>\n",
       "<p>117 rows × 2 columns</p>\n",
       "</div>"
      ],
      "text/plain": [
       "       test train\n",
       "118    1A0F  2BRD\n",
       "479    1BFM  1IO2\n",
       "849    1DIV  1ANK\n",
       "918    1DIV  1POH\n",
       "958    1DIV  2BRD\n",
       "...     ...   ...\n",
       "12998  5OAQ  2BRD\n",
       "13016  5OAQ  4BLM\n",
       "13025  5VP3  1AJ3\n",
       "13052  5VP3  1CHK\n",
       "13102  5VP3  1QQV\n",
       "\n",
       "[117 rows x 2 columns]"
      ]
     },
     "execution_count": 33,
     "metadata": {},
     "output_type": "execute_result"
    }
   ],
   "source": [
    "pairs"
   ]
  },
  {
   "cell_type": "code",
   "execution_count": 35,
   "id": "43601f6e-c89d-4327-bf95-a6b31d24ba6a",
   "metadata": {},
   "outputs": [],
   "source": [
    "pairs.to_csv('S1465-s669_pairs', index=False)"
   ]
  }
 ],
 "metadata": {
  "kernelspec": {
   "display_name": "Python 3 (ipykernel)",
   "language": "python",
   "name": "python3"
  },
  "language_info": {
   "codemirror_mode": {
    "name": "ipython",
    "version": 3
   },
   "file_extension": ".py",
   "mimetype": "text/x-python",
   "name": "python",
   "nbconvert_exporter": "python",
   "pygments_lexer": "ipython3",
   "version": "3.10.14"
  }
 },
 "nbformat": 4,
 "nbformat_minor": 5
}
